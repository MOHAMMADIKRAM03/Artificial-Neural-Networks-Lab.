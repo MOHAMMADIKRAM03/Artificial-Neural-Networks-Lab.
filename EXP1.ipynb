{
  "nbformat": 4,
  "nbformat_minor": 0,
  "metadata": {
    "colab": {
      "provenance": [],
      "authorship_tag": "ABX9TyOTnAq7tI2g2ClCh8Di6tAR",
      "include_colab_link": true
    },
    "kernelspec": {
      "name": "python3",
      "display_name": "Python 3"
    },
    "language_info": {
      "name": "python"
    }
  },
  "cells": [
    {
      "cell_type": "markdown",
      "metadata": {
        "id": "view-in-github",
        "colab_type": "text"
      },
      "source": [
        "<a href=\"https://colab.research.google.com/github/MOHAMMADIKRAM03/Artificial-Neural-Networks-Lab./blob/main/EXP1.ipynb\" target=\"_parent\"><img src=\"https://colab.research.google.com/assets/colab-badge.svg\" alt=\"Open In Colab\"/></a>"
      ]
    },
    {
      "cell_type": "code",
      "execution_count": null,
      "metadata": {
        "colab": {
          "base_uri": "https://localhost:8080/"
        },
        "id": "BE3_tjFooAb6",
        "outputId": "4c01a3f6-b1c1-40cf-eb8b-64c2cdf717af"
      },
      "outputs": [
        {
          "output_type": "stream",
          "name": "stdout",
          "text": [
            "AND Gate\n",
            "Inputs: [0, 0, 0] -> Output: 0\n",
            "Inputs: [0, 0, 1] -> Output: 0\n",
            "Inputs: [0, 1, 0] -> Output: 0\n",
            "Inputs: [0, 1, 1] -> Output: 0\n",
            "Inputs: [1, 0, 0] -> Output: 0\n",
            "Inputs: [1, 0, 1] -> Output: 0\n",
            "Inputs: [1, 1, 0] -> Output: 0\n",
            "Inputs: [1, 1, 1] -> Output: 1\n",
            "\n",
            "OR Gate\n",
            "Inputs: [0, 0, 0] -> Output: 0\n",
            "Inputs: [0, 0, 1] -> Output: 1\n",
            "Inputs: [0, 1, 0] -> Output: 1\n",
            "Inputs: [0, 1, 1] -> Output: 1\n",
            "Inputs: [1, 0, 0] -> Output: 1\n",
            "Inputs: [1, 0, 1] -> Output: 1\n",
            "Inputs: [1, 1, 0] -> Output: 1\n",
            "Inputs: [1, 1, 1] -> Output: 1\n",
            "\n",
            "NOR Gate\n",
            "Inputs: [0, 0, 0] -> Output: 1\n",
            "Inputs: [0, 0, 1] -> Output: 1\n",
            "Inputs: [0, 1, 0] -> Output: 1\n",
            "Inputs: [0, 1, 1] -> Output: 0\n",
            "Inputs: [1, 0, 0] -> Output: 1\n",
            "Inputs: [1, 0, 1] -> Output: 0\n",
            "Inputs: [1, 1, 0] -> Output: 0\n",
            "Inputs: [1, 1, 1] -> Output: 0\n",
            "\n",
            "NAND Gate\n",
            "Inputs: [0, 0, 0] -> Output: 1\n",
            "Inputs: [0, 0, 1] -> Output: 1\n",
            "Inputs: [0, 1, 0] -> Output: 1\n",
            "Inputs: [0, 1, 1] -> Output: 1\n",
            "Inputs: [1, 0, 0] -> Output: 1\n",
            "Inputs: [1, 0, 1] -> Output: 1\n",
            "Inputs: [1, 1, 0] -> Output: 1\n",
            "Inputs: [1, 1, 1] -> Output: 0\n"
          ]
        }
      ],
      "source": [
        "import numpy as np\n",
        "\n",
        "# McCulloch-Pitts Neuron\n",
        "class McCullochPittsNeuron:\n",
        "    def __init__(self, weights, threshold):\n",
        "        self.weights = np.array(weights)\n",
        "        self.threshold = threshold\n",
        "\n",
        "    def activate(self, inputs):\n",
        "        # Calculate the weighted sum\n",
        "        weighted_sum = np.dot(inputs, self.weights)\n",
        "        # Apply the threshold\n",
        "        return 1 if weighted_sum >= self.threshold else 0\n",
        "\n",
        "# Define the Boolean functions\n",
        "def and_gate(inputs):\n",
        "    neuron = McCullochPittsNeuron(weights=[1, 1, 1], threshold=3)\n",
        "    return neuron.activate(inputs)\n",
        "\n",
        "def or_gate(inputs):\n",
        "    neuron = McCullochPittsNeuron(weights=[1, 1, 1], threshold=1)\n",
        "    return neuron.activate(inputs)\n",
        "\n",
        "def nor_gate(inputs):\n",
        "    neuron = McCullochPittsNeuron(weights=[-1, -1, -1], threshold=-1)\n",
        "    return neuron.activate(inputs)\n",
        "\n",
        "def nand_gate(inputs):\n",
        "    neuron = McCullochPittsNeuron(weights=[-1, -1, -1], threshold=-2)\n",
        "    return neuron.activate(inputs)\n",
        "\n",
        "# Test the gates\n",
        "inputs_list = [\n",
        "    [0, 0, 0],\n",
        "    [0, 0, 1],\n",
        "    [0, 1, 0],\n",
        "    [0, 1, 1],\n",
        "    [1, 0, 0],\n",
        "    [1, 0, 1],\n",
        "    [1, 1, 0],\n",
        "    [1, 1, 1]\n",
        "]\n",
        "\n",
        "print(\"AND Gate\")\n",
        "for inputs in inputs_list:\n",
        "    print(f\"Inputs: {inputs} -> Output: {and_gate(inputs)}\")\n",
        "\n",
        "print(\"\\nOR Gate\")\n",
        "for inputs in inputs_list:\n",
        "    print(f\"Inputs: {inputs} -> Output: {or_gate(inputs)}\")\n",
        "\n",
        "print(\"\\nNOR Gate\")\n",
        "for inputs in inputs_list:\n",
        "    print(f\"Inputs: {inputs} -> Output: {nor_gate(inputs)}\")\n",
        "\n",
        "print(\"\\nNAND Gate\")\n",
        "for inputs in inputs_list:\n",
        "    print(f\"Inputs: {inputs} -> Output: {nand_gate(inputs)}\")\n"
      ]
    }
  ]
}