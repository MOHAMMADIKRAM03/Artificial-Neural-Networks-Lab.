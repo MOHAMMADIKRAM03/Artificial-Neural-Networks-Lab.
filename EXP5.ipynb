{
  "nbformat": 4,
  "nbformat_minor": 0,
  "metadata": {
    "colab": {
      "provenance": [],
      "authorship_tag": "ABX9TyO8mEGetkLzGMcfDhDgJiCO",
      "include_colab_link": true
    },
    "kernelspec": {
      "name": "python3",
      "display_name": "Python 3"
    },
    "language_info": {
      "name": "python"
    }
  },
  "cells": [
    {
      "cell_type": "markdown",
      "metadata": {
        "id": "view-in-github",
        "colab_type": "text"
      },
      "source": [
        "<a href=\"https://colab.research.google.com/github/MOHAMMADIKRAM03/Artificial-Neural-Networks-Lab./blob/main/EXP5.ipynb\" target=\"_parent\"><img src=\"https://colab.research.google.com/assets/colab-badge.svg\" alt=\"Open In Colab\"/></a>"
      ]
    },
    {
      "cell_type": "code",
      "execution_count": null,
      "metadata": {
        "colab": {
          "base_uri": "https://localhost:8080/"
        },
        "id": "-dt84mJtIac0",
        "outputId": "251d8eeb-bb08-46a3-e051-d63205a5ddfb"
      },
      "outputs": [
        {
          "output_type": "stream",
          "name": "stdout",
          "text": [
            "Final weights: [0. 0.]\n",
            "Final bias: 0.4\n"
          ]
        }
      ],
      "source": [
        "import numpy as np\n",
        "\n",
        "\n",
        "X = np.array([[0, 0], [0, 1], [1, 0], [1, 1]])\n",
        "\n",
        "y = np.array([0, 0, 0, 1])\n",
        "\n",
        "W = np.array([0.0, 0.0])\n",
        "bias = 0.0\n",
        "\n",
        "learning_rate = 0.1\n",
        "\n",
        "for i in range(len(X)):\n",
        "    W += learning_rate * y[i] * X[i]\n",
        "    bias += learning_rate * y[i]\n",
        "\n",
        "print(\"Final weights:\", W)\n",
        "print(\"Final bias:\", bias)\n"
      ]
    },
    {
      "cell_type": "code",
      "source": [
        "import numpy as np\n",
        "\n",
        "W = np.array([1, -1, 0, 0.5])\n",
        "\n",
        "\n",
        "Xi = [np.array([1,-2,1.5,0]), np.array([1,-0.5,-2,-1.5]), np.array([0,1,-1,1.5])]\n",
        "\n",
        "\n",
        "learning_rate = 1\n",
        "\n",
        "\n",
        "for x in Xi:\n",
        "    W += learning_rate * x\n",
        "\n",
        "print(\"Final weight matrix:\", W)\n"
      ],
      "metadata": {
        "colab": {
          "base_uri": "https://localhost:8080/"
        },
        "id": "ghhxp8tfI5A5",
        "outputId": "e3933116-51c6-43e6-f75c-97305e295349"
      },
      "execution_count": null,
      "outputs": [
        {
          "output_type": "stream",
          "name": "stdout",
          "text": [
            "Final weight matrix: [ 3.  -2.5 -1.5  0.5]\n"
          ]
        }
      ]
    },
    {
      "cell_type": "code",
      "source": [
        "import numpy as np\n",
        "\n",
        "W = np.array([1, -1, 0, 0.5])\n",
        "\n",
        "\n",
        "Xi = [np.array([1,-2,1.5,0]), np.array([1,-0.5,-2,-1.5]), np.array([0,1,-1,1.5])]\n",
        "\n",
        "\n",
        "\n",
        "y = np.array([0.5, -0.5, 1.0])\n",
        "\n",
        "learning_rate = 0.1\n",
        "\n",
        "\n",
        "previous_X = np.zeros(len(W))\n",
        "previous_y = 0\n",
        "\n",
        "for i in range(len(Xi)):\n",
        "    current_X = Xi[i]\n",
        "    current_y = y[i]\n",
        "\n",
        "\n",
        "    delta_X = current_X - previous_X\n",
        "    delta_y = current_y - previous_y\n",
        "\n",
        "\n",
        "    W += learning_rate * delta_y * delta_X\n",
        "\n",
        "\n",
        "    previous_X = current_X\n",
        "    previous_y = current_y\n",
        "\n",
        "print(\"Final weight matrix after differential Hebbian learning:\", W)\n"
      ],
      "metadata": {
        "colab": {
          "base_uri": "https://localhost:8080/"
        },
        "id": "5LhJmH_sJPDX",
        "outputId": "8dd09446-0954-4e24-a5cf-e28892feb752"
      },
      "execution_count": null,
      "outputs": [
        {
          "output_type": "stream",
          "name": "stdout",
          "text": [
            "Final weight matrix after differential Hebbian learning: [ 0.9   -1.025  0.575  1.1  ]\n"
          ]
        }
      ]
    }
  ]
}